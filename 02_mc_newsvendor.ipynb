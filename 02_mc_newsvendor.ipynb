{
 "cells": [
  {
   "cell_type": "markdown",
   "id": "84aa00bf-26c1-44ef-8ddc-e0c3284e8d66",
   "metadata": {},
   "source": [
    "# Monte Carlo Simulation - The Newsvendor Problem"
   ]
  },
  {
   "cell_type": "markdown",
   "id": "5ee57f11-1ded-4046-9df7-119091ebf956",
   "metadata": {},
   "source": [
    "> This is an example approach to analysing the newsvendor problem using monte carlo simulation. We will use a classic version of the problem that uses newspapers, but it can apply to answer perishable item.\n",
    "\n",
    "\n",
    "## Problem statement\n",
    "\n",
    "You own a newstand and purchase $Q$ copies of the financial times at the start of a day for 30 pence and sell for 75 pence each.  Newspapers left at the end of the day are recycled and provide an income of 5 pence.\n",
    "\n",
    "* You can only purchase newspapers in batches of 10.\n",
    "* On any given day, sales can be \"good\", \"fair\" or \"poor\".\n",
    "* Each type of day has a discrete probability density function based on your own analysis.\n",
    "* As these are newspapers, they cannot be carried over from one day to another.  All spare copies are sold for their salvage value at the end of day.\n",
    "* You are interested in finding $Q$ that maximises your profit over a working month (5 days a week * 4 weeks = 20 days)"
   ]
  },
  {
   "cell_type": "markdown",
   "id": "3a657bb4-7784-4e99-924b-8fb7c094aaf3",
   "metadata": {},
   "source": [
    "## 1. Imports"
   ]
  },
  {
   "cell_type": "code",
   "execution_count": null,
   "id": "332de917-79c3-45c4-9918-39b55ed1cee2",
   "metadata": {},
   "outputs": [],
   "source": [
    "import numpy as np\n",
    "import pandas as pd\n",
    "\n",
    "# type hints\n",
    "from typing import Optional\n",
    "import numpy.typing as npt"
   ]
  },
  {
   "cell_type": "markdown",
   "id": "43ed6d0f-f3a2-4235-b267-d23ea7d36a3b",
   "metadata": {},
   "source": [
    "Included in the repository is a module called `newsvendor.py`. It contains an implementation of the monte-carlo model we can use."
   ]
  },
  {
   "cell_type": "code",
   "execution_count": null,
   "id": "d2cf4e83-8908-4e69-8230-8f57f909f1e8",
   "metadata": {},
   "outputs": [],
   "source": [
    "from newsvendor import (\n",
    "    create_profit_histogram,\n",
    "    plot_cumulative_frequency,\n",
    "    Experiment,\n",
    "    single_run,\n",
    "    multiple_replications,\n",
    "    period_statistics,\n",
    ")"
   ]
  },
  {
   "cell_type": "markdown",
   "id": "b349b20c-9779-494f-aea1-5314022c99f8",
   "metadata": {},
   "source": [
    "## 2. Example of using the model\n",
    "\n",
    "* In this example we will compare ordering 80 newspapers a day to ordering 70 newspapers a day.\n",
    "* We use a 20 day (4 working weeks) planning period."
   ]
  },
  {
   "cell_type": "code",
   "execution_count": null,
   "id": "5f7ca1c6-44c5-4453-82df-cd490eaf744e",
   "metadata": {},
   "outputs": [],
   "source": [
    "# create an instance of an experiment and set decision variables\n",
    "exp = Experiment(order_quantity=70, periods=20)\n",
    "\n",
    "# perform a single replication of the model over the planning period\n",
    "simulated_result = single_run(exp, rep_i=1)\n",
    "\n",
    "# results are in pence\n",
    "simulated_result"
   ]
  },
  {
   "cell_type": "markdown",
   "id": "c8de2bc2-b3e3-4cbb-a8fa-d653f6e2177e",
   "metadata": {},
   "source": [
    "The total profit over the 20 day planning period is the sum of the \"profits\" column"
   ]
  },
  {
   "cell_type": "code",
   "execution_count": null,
   "id": "53ec2d29-250b-49bd-8264-4b0d5889f6d7",
   "metadata": {},
   "outputs": [],
   "source": [
    "summary = period_statistics(simulated_result)\n",
    "summary"
   ]
  },
  {
   "cell_type": "code",
   "execution_count": null,
   "id": "0a8ee7f8-6e38-4ef3-9d4f-dbb5f1735a0d",
   "metadata": {},
   "outputs": [],
   "source": [
    "exp = Experiment(order_quantity=80, periods=20)\n",
    "rep_results = multiple_replications(exp, n_reps=10_000)\n",
    "rep_results.head()"
   ]
  },
  {
   "cell_type": "code",
   "execution_count": null,
   "id": "5068f342-c786-4d3e-a95b-19524d39eaf8",
   "metadata": {},
   "outputs": [],
   "source": [
    "create_profit_histogram(rep_results[\"profit\"] / 100.0)"
   ]
  },
  {
   "cell_type": "code",
   "execution_count": null,
   "id": "7f7e30b4-c2d8-4542-b090-8bf4de7426d9",
   "metadata": {},
   "outputs": [],
   "source": [
    "scenario = Experiment(order_quantity=70, periods=20)\n",
    "scenario_rep_results = multiple_replications(scenario, n_reps=10_000)\n",
    "profit_diff = scenario_rep_results[\"profit\"] - rep_results[\"profit\"]"
   ]
  },
  {
   "cell_type": "code",
   "execution_count": null,
   "id": "6d9c3c5f-32ab-4ba8-a144-325674a67b0a",
   "metadata": {},
   "outputs": [],
   "source": [
    "create_profit_histogram(profit_diff.to_numpy() / 100.0)"
   ]
  },
  {
   "cell_type": "code",
   "execution_count": null,
   "id": "55e15abb-5ad9-4523-af43-5ac888f0d404",
   "metadata": {},
   "outputs": [],
   "source": [
    "plot_cumulative_frequency(profit_diff.to_numpy() / 100.0)"
   ]
  },
  {
   "cell_type": "markdown",
   "id": "82b6e8e5-4f3e-4994-bed1-3bd7d35fcc7d",
   "metadata": {},
   "source": [
    "## 3. Building the model\n",
    "\n",
    "### 3.1. Sampling distributions"
   ]
  },
  {
   "cell_type": "code",
   "execution_count": null,
   "id": "61b5d83a-b1dc-433a-81f1-d3a522967bb8",
   "metadata": {},
   "outputs": [],
   "source": [
    "class Discrete:\n",
    "    \"\"\"\n",
    "    Discrete distribution: Sample a value with a given observed probability.\n",
    "    \"\"\"\n",
    "\n",
    "    def __init__(\n",
    "        self,\n",
    "        values: npt.ArrayLike,\n",
    "        probabilities: npt.ArrayLike,\n",
    "        random_seed: Optional[int] = None,\n",
    "    ):\n",
    "        \"\"\"\n",
    "        Discrete distribution\n",
    "\n",
    "        Params:\n",
    "        ------\n",
    "        values: array-like\n",
    "            list of sample values. Must be of equal length to freq\n",
    "\n",
    "        freq: array-like\n",
    "            list of observed frequencies. Must be of equal length to values\n",
    "\n",
    "        random_seed, int | SeedSequence, optional (default=None)\n",
    "            A random seed to reproduce samples. If set to none then a unique\n",
    "            sample is created.\n",
    "        \"\"\"\n",
    "        if len(values) != len(probabilities):\n",
    "            error_msg = \"values and freq arguments must be of equal length\"\n",
    "            raise ValueError(error_msg)\n",
    "\n",
    "        self.rng = np.random.default_rng(random_seed)\n",
    "        self.values = np.asarray(values)\n",
    "        self.probabilities = np.asarray(probabilities)\n",
    "\n",
    "    def __repr__(self):\n",
    "        \"\"\"String representation of class\"\"\"\n",
    "        return f\"Discrete({self.values=}\\n{self.probabilities=})\"\n",
    "\n",
    "    def sample(self, size: Optional[int] = None) -> float | np.ndarray:\n",
    "        \"\"\"\n",
    "        Sample fron the Discrete distribution\n",
    "\n",
    "        Params:\n",
    "        -------\n",
    "        size: int, optional (default=None)\n",
    "            Number of samples to return. If integer then\n",
    "            numpy array returned.\n",
    "        \"\"\"\n",
    "        sample = self.rng.choice(self.values, p=self.probabilities, size=size)\n",
    "        return sample"
   ]
  },
  {
   "cell_type": "markdown",
   "id": "eb4fa9cf-08fb-49ae-ad0b-1d4e2904cfa1",
   "metadata": {},
   "source": [
    "An example using the Discrete Distribution"
   ]
  },
  {
   "cell_type": "code",
   "execution_count": null,
   "id": "1bc693f5-f988-4f40-8805-2b7d987d06cf",
   "metadata": {},
   "outputs": [],
   "source": [
    "day_type = Discrete(\n",
    "    values=[\"good\", \"fair\", \"poor\"],\n",
    "    probabilities=[0.5, 0.25, 0.25],\n",
    "    random_seed=42,\n",
    ")\n",
    "\n",
    "day_type.sample(size=5)"
   ]
  },
  {
   "cell_type": "markdown",
   "id": "a69fe396-59ef-48e6-8497-c6875b655eb1",
   "metadata": {},
   "source": [
    "### 3.2. Parameter management"
   ]
  },
  {
   "cell_type": "code",
   "execution_count": null,
   "id": "15793440-9cbc-4061-b59c-10d8bb16ea94",
   "metadata": {},
   "outputs": [],
   "source": [
    "DEFAULT_PERIODS = 5 * 4\n",
    "DEFAULT_ORDER_QUANTITY = 70\n",
    "\n",
    "# costs and revenue\n",
    "DEFAULT_PURCHASE_COST = 33.0\n",
    "DEFAULT_SALE_PRICE = 50.0\n",
    "DEFAULT_SALVAGE_PRICE = 5.0\n",
    "\n",
    "# discrete-distribution data\n",
    "DEFAULT_PATH_DAY_TYPE = \"./data/nv_day_type.csv\"\n",
    "DEFAULT_PATH_DEMAND = \"./data/nv_demand_prob.csv\"\n",
    "\n",
    "N_STREAMS = 4\n",
    "DEFAULT_SEED = 42"
   ]
  },
  {
   "cell_type": "markdown",
   "id": "91c88b33-731e-498e-9568-e28a8a6c5221",
   "metadata": {},
   "source": [
    "We will create an `Experiment` class to hold all of our parameters and manage random sampling."
   ]
  },
  {
   "cell_type": "code",
   "execution_count": null,
   "id": "beedf577-be80-4fcc-9748-aac3a8b3da3e",
   "metadata": {},
   "outputs": [],
   "source": [
    "class Experiment:\n",
    "    def __init__(\n",
    "        self,\n",
    "        periods: Optional[float] = DEFAULT_PERIODS,\n",
    "        order_quantity: Optional[int] = DEFAULT_ORDER_QUANTITY,\n",
    "        purchase_cost: Optional[float] = DEFAULT_PURCHASE_COST,\n",
    "        sale_price: Optional[float] = DEFAULT_SALE_PRICE,\n",
    "        salvage_price: Optional[float] = DEFAULT_SALVAGE_PRICE,\n",
    "        path_data_type: Optional[str] = DEFAULT_PATH_DAY_TYPE,\n",
    "        path_demand: Optional[str] = DEFAULT_PATH_DEMAND,\n",
    "        n_streams: Optional[int] = N_STREAMS,\n",
    "        main_seed: Optional[int] = DEFAULT_SEED,\n",
    "    ):\n",
    "        \"\"\"\n",
    "        Initialiser for an experiment\n",
    "\n",
    "        Parameters:\n",
    "        ----------\n",
    "        \"\"\"\n",
    "        # store parameters\n",
    "        self.periods = periods\n",
    "        self.order_quantity = order_quantity\n",
    "        self.purchase_cost = purchase_cost\n",
    "        self.sale_price = sale_price\n",
    "        # in practice validate!\n",
    "        self.profit_per_unit = sale_price - purchase_cost\n",
    "        self.salvage_price = salvage_price\n",
    "        self.recovery_per_unit = purchase_cost - salvage_price\n",
    "\n",
    "        self.path_data_type = path_data_type\n",
    "        self.path_demand = path_demand\n",
    "\n",
    "        # load data to use in distributions\n",
    "        # In practice I recommend you include some data validation! ☺️\n",
    "        self.day_type = pd.read_csv(path_data_type)\n",
    "        self.demand_prob = pd.read_csv(path_demand)\n",
    "\n",
    "        # sampling setup\n",
    "        self.main_seed = main_seed\n",
    "        self.n_streams = n_streams\n",
    "        self.dists = {}\n",
    "        self.init_sampling()\n",
    "\n",
    "    def set_main_seed(self, main_seed):\n",
    "        \"\"\"\n",
    "        Controls the random sampling\n",
    "        Parameters:\n",
    "        ----------\n",
    "        random_number_set: int\n",
    "            Used to control the set of pseudo random numbers used by\n",
    "            the distributions in the simulation.\n",
    "        \"\"\"\n",
    "        self.main_seed = main_seed\n",
    "        self.init_sampling()\n",
    "\n",
    "    def init_sampling(self):\n",
    "        \"\"\"\n",
    "        Create the distributions used by the model and initialise\n",
    "        the random seeds of each.\n",
    "        \"\"\"\n",
    "        # produce n non-overlapping streams\n",
    "        seed_sequence = np.random.SeedSequence(self.main_seed)\n",
    "        self.seeds = seed_sequence.spawn(self.n_streams)\n",
    "\n",
    "        # create distribution used to sample day type\n",
    "        self.dists[\"day_type\"] = Discrete(\n",
    "            values=self.day_type[\"day_type\"],\n",
    "            probabilities=self.day_type[\"prob\"],\n",
    "            random_seed=self.seeds[0],\n",
    "        )\n",
    "\n",
    "        # create discrete demand distributions...\n",
    "        for dt, sd in zip(\n",
    "            self.demand_prob.columns[1:].tolist(), self.seeds[1:]\n",
    "        ):\n",
    "            self.dists[dt] = Discrete(\n",
    "                values=self.demand_prob[\"demand\"],\n",
    "                probabilities=self.demand_prob[dt],\n",
    "                random_seed=sd,\n",
    "            )"
   ]
  },
  {
   "cell_type": "code",
   "execution_count": null,
   "id": "a2c8b28a-de6e-435e-998c-cfcf865dbebe",
   "metadata": {},
   "outputs": [],
   "source": [
    "default_experiment = Experiment()\n",
    "default_experiment.dists[\"day_type\"]"
   ]
  },
  {
   "cell_type": "code",
   "execution_count": null,
   "id": "41913c97-7fba-42c0-b5cd-50da1d4aca9c",
   "metadata": {},
   "outputs": [],
   "source": [
    "default_experiment.dists[\"fair\"]"
   ]
  },
  {
   "cell_type": "code",
   "execution_count": null,
   "id": "37e1c3ba-e26e-4009-8021-6fc004effce4",
   "metadata": {},
   "outputs": [],
   "source": [
    "default_experiment.dists[\"fair\"].sample()"
   ]
  },
  {
   "cell_type": "markdown",
   "id": "2bf39fc2-0113-4888-88e0-d439b1ee3011",
   "metadata": {},
   "source": [
    "### 3.3. Functions to calculate columns in dataframe"
   ]
  },
  {
   "cell_type": "code",
   "execution_count": null,
   "id": "ebc800d0-215d-4f3b-b32a-6c13a5437ebe",
   "metadata": {},
   "outputs": [],
   "source": [
    "def get_sales_revenue(exp: Experiment, demand: npt.ArrayLike) -> np.ndarray:\n",
    "    \"\"\"Calculate the sales revenue for each day in the problem.\n",
    "\n",
    "    Parameters:\n",
    "    ----------\n",
    "    exp: Experiment\n",
    "        The simulation parameters\n",
    "\n",
    "    demand: ArrayLike\n",
    "        The demand where each element represents a day in the simulation.\n",
    "\n",
    "    Returns:\n",
    "    --------\n",
    "    1D numpy array containing sales revenue by day.\n",
    "    \"\"\"\n",
    "    demand = np.asarray(demand)\n",
    "\n",
    "    # default array values to 0 (i.e. no excess stock)\n",
    "    sales = np.full(len(demand), exp.order_quantity)\n",
    "\n",
    "    # difference between demand and order quanity\n",
    "    # positive values means order quantity higher than demand\n",
    "    diff = exp.order_quantity - demand\n",
    "\n",
    "    sales[diff >= 0] = demand[diff >= 0]\n",
    "    return sales * exp.sale_price"
   ]
  },
  {
   "cell_type": "code",
   "execution_count": null,
   "id": "081920c1-4f97-4776-8c60-911e133d0f9c",
   "metadata": {},
   "outputs": [],
   "source": [
    "def get_short_cost(exp: Experiment, demand: npt.ArrayLike) -> np.ndarray:\n",
    "    \"\"\"Calculate the lost sales revenue by day\n",
    "\n",
    "    Parameters:\n",
    "    ----------\n",
    "    exp: Experiment\n",
    "        The simulation parameters\n",
    "\n",
    "    demand: ArrayLike\n",
    "        The demand where each element represents a day in the simulation.\n",
    "\n",
    "    Returns:\n",
    "    --------\n",
    "    1D numpy array containing the lost sales revenue by day.\n",
    "    \"\"\"\n",
    "    demand = np.asarray(demand)\n",
    "\n",
    "    # default array values to 0 (i.e. no shortage)\n",
    "    shortage = np.zeros(len(demand))\n",
    "\n",
    "    # difference between demand and order quanity\n",
    "    # positive values mean demand higher than ordered\n",
    "    diff = demand - exp.order_quantity\n",
    "\n",
    "    shortage[diff >= 0] = diff[diff >= 0] * exp.profit_per_unit\n",
    "    return shortage"
   ]
  },
  {
   "cell_type": "code",
   "execution_count": null,
   "id": "a48d8898-c020-46d4-907e-d4a935f7b36d",
   "metadata": {},
   "outputs": [],
   "source": [
    "def get_salvage_value(exp: Experiment, demand: npt.ArrayLike) -> np.ndarray:\n",
    "    \"\"\"Calculate the money salvage by selling excess newspapers\n",
    "\n",
    "    Parameters:\n",
    "    ----------\n",
    "    exp: Experiment\n",
    "        The simulation parameters\n",
    "\n",
    "    demand: ArrayLike\n",
    "        The demand where each element represents a day in the simulation.\n",
    "\n",
    "    Returns:\n",
    "    --------\n",
    "    1D numpy array containing the lost salvaged cost.\n",
    "    \"\"\"\n",
    "    demand = np.asarray(demand)\n",
    "\n",
    "    # default array values to 0 (i.e. no excess stock)\n",
    "    salvage = np.zeros(len(demand))\n",
    "\n",
    "    # difference between demand and order quanity\n",
    "    # positive values means order quantitiy higher than demand\n",
    "    diff = exp.order_quantity - demand\n",
    "\n",
    "    salvage[diff >= 0] = diff[diff >= 0] * exp.salvage_price\n",
    "    return salvage"
   ]
  },
  {
   "cell_type": "markdown",
   "id": "c9dcc4fb-a69e-4f8d-a78c-09b0f0fbd910",
   "metadata": {},
   "source": [
    "### 3.4. Function to run one replication of the model\n",
    "\n",
    "* `single_run` - runs one replication of the model with a given set of random numbers. It produces a pandas dataframe with profits for each day in the planning period.\n",
    "* `period_statistics` - calculates total profit and other statistics over the period."
   ]
  },
  {
   "cell_type": "code",
   "execution_count": null,
   "id": "ba889f29-47d0-4c95-a57c-f704b0260ffb",
   "metadata": {},
   "outputs": [],
   "source": [
    "def single_run(exp: Experiment, rep_i: Optional[int] = 0) -> pd.DataFrame:\n",
    "    \"\"\"Calculate the lost sales revenue by day\n",
    "\n",
    "    Parameters:\n",
    "    ----------\n",
    "    exp: Experiment\n",
    "        The simulation parameters\n",
    "\n",
    "    rep_i: int, optional (default = 0)\n",
    "        The replication number. Used to set the random seed in the simulation.\n",
    "\n",
    "    Returns:\n",
    "    --------\n",
    "    pandas dataframe. Rows = day in planning period. Cols = results for day.\n",
    "    \"\"\"\n",
    "    # set random seed for the replication\n",
    "    exp.set_main_seed(rep_i)\n",
    "\n",
    "    # get the types of day\n",
    "    day_types = exp.dists[\"day_type\"].sample(exp.periods)\n",
    "\n",
    "    # get the demand on the day\n",
    "    demands = np.array([exp.dists[dt].sample() for dt in day_types])\n",
    "\n",
    "    # daily revenues\n",
    "    sales_revenue = get_sales_revenue(exp, demands)\n",
    "\n",
    "    # daily shortage costs\n",
    "    shortage_costs = get_short_cost(exp, demands)\n",
    "\n",
    "    # daily salvage prices\n",
    "    salvages = get_salvage_value(exp, demands)\n",
    "\n",
    "    # cost of purchasing newspapers\n",
    "    period_costs = np.full(exp.periods, exp.order_quantity * exp.purchase_cost)\n",
    "\n",
    "    # convert results to pandas dataframe\n",
    "    period_results = pd.DataFrame()\n",
    "    period_results[\"day_type\"] = day_types\n",
    "    period_results[\"demand\"] = demands\n",
    "    period_results[\"sales_revenue\"] = sales_revenue\n",
    "    period_results[\"shortage_cost\"] = shortage_costs\n",
    "    period_results[\"salvage_revenue\"] = salvages\n",
    "    period_results[\"period_cost\"] = period_costs\n",
    "    period_results[\"profit\"] = (\n",
    "        sales_revenue - period_costs - shortage_costs + salvages\n",
    "    )\n",
    "    period_results.index += 1\n",
    "    period_results.index.name = \"day\"\n",
    "    return period_results"
   ]
  },
  {
   "cell_type": "code",
   "execution_count": null,
   "id": "7da7236b-1fe2-420a-a683-41f7f2ae2386",
   "metadata": {},
   "outputs": [],
   "source": [
    "def period_statistics(simulated_result: pd.DataFrame) -> dict:\n",
    "    \"\"\"Total profit over the planning period.\"\"\"\n",
    "    q_stats = {}\n",
    "    q_stats[\"profit\"] = simulated_result[\"profit\"].sum()\n",
    "    q_stats[\"min\"] = simulated_result[\"profit\"].min()\n",
    "    q_stats[\"max\"] = simulated_result[\"profit\"].max()\n",
    "    q_stats[\"5th_percentile\"] = simulated_result[\"profit\"].quantile(0.05)\n",
    "    q_stats[\"95th_percentile\"] = simulated_result[\"profit\"].quantile(0.95)\n",
    "    return q_stats"
   ]
  },
  {
   "cell_type": "code",
   "execution_count": null,
   "id": "c58baaf3-1739-401a-a405-6a1f41f38c42",
   "metadata": {},
   "outputs": [],
   "source": [
    "exp = Experiment(order_quantity=70, periods=20)\n",
    "simulated_result = single_run(exp, rep_i=1)\n",
    "\n",
    "# results are in pence\n",
    "simulated_result"
   ]
  },
  {
   "cell_type": "code",
   "execution_count": null,
   "id": "f814e900-9d66-47ce-bf7d-4625844776ab",
   "metadata": {},
   "outputs": [],
   "source": [
    "period_statistics(simulated_result)"
   ]
  },
  {
   "cell_type": "markdown",
   "id": "e06cd605-6d91-4578-93e6-7a8baabbb2bc",
   "metadata": {},
   "source": [
    "### 3.5 Multiple replications\n",
    "\n",
    "Creates a data set based on multiple replications of the model."
   ]
  },
  {
   "cell_type": "code",
   "execution_count": null,
   "id": "85893460-7bba-49ec-bbb0-843ef0345a02",
   "metadata": {},
   "outputs": [],
   "source": [
    "def multiple_replications(\n",
    "    experiment: Experiment,\n",
    "    n_reps: Optional[int] = 5,\n",
    ") -> np.ndarray:\n",
    "    \"\"\"\n",
    "    Perform multiple replications of the model.\n",
    "\n",
    "    Params:\n",
    "    ------\n",
    "    experiment: Experiment\n",
    "        The experiment/paramaters to use with model\n",
    "\n",
    "    n_reps: int, optional (default=5)\n",
    "        Number of independent replications to run.\n",
    "\n",
    "    Returns:\n",
    "    --------\n",
    "    np.ndarray\n",
    "    \"\"\"\n",
    "\n",
    "    # loop over single run to generate results dicts in a python list.\n",
    "    results = [\n",
    "        period_statistics(single_run(experiment, rep)) for rep in range(n_reps)\n",
    "    ]\n",
    "\n",
    "    # format and return results in a dataframe\n",
    "    df_results = pd.DataFrame(results)\n",
    "    df_results.index = np.arange(1, len(df_results) + 1)\n",
    "    df_results.index.name = \"rep\"\n",
    "    return df_results"
   ]
  },
  {
   "cell_type": "code",
   "execution_count": null,
   "id": "80d4012c-a24b-400d-b95e-b10600ef3565",
   "metadata": {},
   "outputs": [],
   "source": [
    "exp = Experiment(order_quantity=70, periods=20)\n",
    "simulated_profits = multiple_replications(exp, n_reps=500)\n",
    "simulated_profits.head()"
   ]
  },
  {
   "cell_type": "code",
   "execution_count": null,
   "id": "8258480a-f136-4b65-8ab1-0ae9d5ff6e3e",
   "metadata": {},
   "outputs": [],
   "source": [
    "simulated_profits.describe().round(1)"
   ]
  }
 ],
 "metadata": {
  "kernelspec": {
   "display_name": "Python 3 (ipykernel)",
   "language": "python",
   "name": "python3"
  },
  "language_info": {
   "codemirror_mode": {
    "name": "ipython",
    "version": 3
   },
   "file_extension": ".py",
   "mimetype": "text/x-python",
   "name": "python",
   "nbconvert_exporter": "python",
   "pygments_lexer": "ipython3",
   "version": "3.12.9"
  }
 },
 "nbformat": 4,
 "nbformat_minor": 5
}
