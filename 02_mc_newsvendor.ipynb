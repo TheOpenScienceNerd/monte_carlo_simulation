{
 "cells": [
  {
   "cell_type": "markdown",
   "id": "84aa00bf-26c1-44ef-8ddc-e0c3284e8d66",
   "metadata": {},
   "source": [
    "# Monte Carlo Simulation - The Newsvendor Problem"
   ]
  },
  {
   "cell_type": "markdown",
   "id": "5ee57f11-1ded-4046-9df7-119091ebf956",
   "metadata": {},
   "source": [
    "This is an example approach to analysing the multi-period newsvendor problem using simulation"
   ]
  },
  {
   "cell_type": "markdown",
   "id": "3a657bb4-7784-4e99-924b-8fb7c094aaf3",
   "metadata": {},
   "source": [
    "## 1. Imports"
   ]
  },
  {
   "cell_type": "code",
   "execution_count": null,
   "id": "332de917-79c3-45c4-9918-39b55ed1cee2",
   "metadata": {},
   "outputs": [],
   "source": [
    "import numpy as np\n",
    "import pandas as pd\n",
    "\n",
    "from typing import Optional, Tuple\n",
    "import numpy.typing as npt"
   ]
  },
  {
   "cell_type": "markdown",
   "id": "ec279c48-e39f-431d-a478-144018f937a2",
   "metadata": {},
   "source": [
    "## 2. Import distributions"
   ]
  },
  {
   "cell_type": "code",
   "execution_count": null,
   "id": "c2577d4f-6d61-49af-8cca-40b1fe7a3799",
   "metadata": {},
   "outputs": [],
   "source": [
    "DAY_TYPE_PATH = './data/nv_day_type.csv'\n",
    "DEMAND_PATH = './data/nv_demand_prob.csv'\n",
    "\n",
    "day_type = pd.read_csv(DAY_TYPE_PATH)\n",
    "demand_prob = pd.read_csv(DEMAND_PATH)"
   ]
  },
  {
   "cell_type": "code",
   "execution_count": null,
   "id": "02c17198-4e80-47cc-977b-7d3b21370dcb",
   "metadata": {},
   "outputs": [],
   "source": [
    "day_type"
   ]
  },
  {
   "cell_type": "code",
   "execution_count": null,
   "id": "992f89f0-8913-4b8b-ae5a-8b574f9be98f",
   "metadata": {},
   "outputs": [],
   "source": [
    "demand_prob"
   ]
  },
  {
   "cell_type": "code",
   "execution_count": null,
   "id": "61b5d83a-b1dc-433a-81f1-d3a522967bb8",
   "metadata": {},
   "outputs": [],
   "source": [
    "class Discrete:\n",
    "    \"\"\"\n",
    "    Discrete distribution: Sample a value with a given observed probability.\n",
    "    \"\"\"\n",
    "    \n",
    "    def __init__(\n",
    "        self,\n",
    "        values: npt.ArrayLike,\n",
    "        probabilities: npt.ArrayLike,\n",
    "        random_seed: Optional[int] = None,\n",
    "    ):\n",
    "        \"\"\"\n",
    "        Discrete distribution\n",
    "\n",
    "        Params:\n",
    "        ------\n",
    "        values: array-like\n",
    "            list of sample values. Must be of equal length to freq\n",
    "\n",
    "        freq: array-like\n",
    "            list of observed frequencies. Must be of equal length to values\n",
    "\n",
    "        random_seed, int, optional (default=None)\n",
    "            A random seed to reproduce samples. If set to none then a unique\n",
    "            sample is created.\n",
    "        \"\"\"\n",
    "        if len(values) != len(probabilities):\n",
    "            error_msg = \"values and freq arguments must be of equal length\"\n",
    "            raise ValueError(error_msg)\n",
    "\n",
    "        self.rng = np.random.default_rng(random_seed)\n",
    "        self.values = np.asarray(values)\n",
    "        self.probabilities = np.asarray(probabilities)\n",
    "\n",
    "    def sample(self, size: Optional[int] = None) -> float | np.ndarray:\n",
    "        \"\"\"\n",
    "        Sample fron the Discrete distribution\n",
    "\n",
    "        Params:\n",
    "        -------\n",
    "        size: int, optional (default=None)\n",
    "            Number of samples to return. If integer then\n",
    "            numpy array returned.\n",
    "        \"\"\"\n",
    "        sample =  self.rng.choice(self.values, p=self.probabilities, size=size)\n",
    "\n",
    "        if size is None:\n",
    "            return sample.item()\n",
    "        else:\n",
    "            return sample\n"
   ]
  },
  {
   "cell_type": "code",
   "execution_count": null,
   "id": "7a8d0867-823e-4afb-ba0a-f4dd33bab9c2",
   "metadata": {},
   "outputs": [],
   "source": [
    "day_type_dist = Discrete(\n",
    "    values = day_type[\"day_type\"],\n",
    "    probabilities = day_type[\"prob\"],\n",
    "    random_seed=42\n",
    ")"
   ]
  },
  {
   "cell_type": "code",
   "execution_count": null,
   "id": "0b8c4db1-32d1-48a6-8ee4-b4a19ad2a8ca",
   "metadata": {},
   "outputs": [],
   "source": [
    "day_type_dist.sample()"
   ]
  },
  {
   "cell_type": "code",
   "execution_count": null,
   "id": "d6a5300b-0030-44d2-a73d-bb5d04e2c377",
   "metadata": {},
   "outputs": [],
   "source": []
  }
 ],
 "metadata": {
  "kernelspec": {
   "display_name": "Python 3 (ipykernel)",
   "language": "python",
   "name": "python3"
  },
  "language_info": {
   "codemirror_mode": {
    "name": "ipython",
    "version": 3
   },
   "file_extension": ".py",
   "mimetype": "text/x-python",
   "name": "python",
   "nbconvert_exporter": "python",
   "pygments_lexer": "ipython3",
   "version": "3.12.9"
  }
 },
 "nbformat": 4,
 "nbformat_minor": 5
}
